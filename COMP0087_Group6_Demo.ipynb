{
  "nbformat": 4,
  "nbformat_minor": 0,
  "metadata": {
    "colab": {
      "provenance": []
    },
    "kernelspec": {
      "name": "python3",
      "display_name": "Python 3"
    },
    "language_info": {
      "name": "python"
    }
  },
  "cells": [
    {
      "cell_type": "code",
      "source": [
        "#@title Install required packages & Import\n",
        "!pip install -q transformers  sentencepiece\n",
        "\n",
        "from google.colab import drive\n",
        "import re\n",
        "\n",
        "from transformers import T5ForConditionalGeneration, T5Tokenizer\n",
        "import pandas as pd\n",
        "\n",
        "from google.colab import drive\n",
        "drive.mount('/content/drive')\n",
        "# path setting\n",
        "%cd /content/drive/My Drive/Study Material/MSc ML CW/COMP0087 CW\n",
        "\n",
        "# path = '/content/drive/My Drive/dsml/comp0087'\n",
        "# path = '/content/drive/MyDrive/COMP0087'\n",
        "# path = '/content/MyDrive/Study Material/MSc ML CW/COMP0087 CW'"
      ],
      "metadata": {
        "id": "r384p7AMzrbB",
        "colab": {
          "base_uri": "https://localhost:8080/"
        },
        "outputId": "588f4818-2741-45af-b84a-f83ef4da9e80"
      },
      "execution_count": null,
      "outputs": [
        {
          "output_type": "stream",
          "name": "stdout",
          "text": [
            "Drive already mounted at /content/drive; to attempt to forcibly remount, call drive.mount(\"/content/drive\", force_remount=True).\n",
            "/content/drive/My Drive/Study Material/MSc ML CW/COMP0087 CW\n"
          ]
        }
      ]
    },
    {
      "cell_type": "markdown",
      "source": [
        "For the code to run, the model and raw ICL data can be loaded in the following link\n",
        "\n",
        "https://drive.google.com/drive/folders/1MDnQNheVok6lMdnv0ZauVVu1AzhF_CO0?usp=sharing"
      ],
      "metadata": {
        "id": "L2wxlZa-ParF"
      }
    },
    {
      "cell_type": "code",
      "source": [
        "# @title Define Parameter Values & Required Functions\n",
        "\n",
        "%%capture \n",
        "def generate_sample_summary(model, sample_id=0):\n",
        "  raw_message = wikihow_data['manual_raw_message'][sample_id]\n",
        "\n",
        "  inputs = tokenizer_t5(raw_message, return_tensors=\"pt\")  # .to(device)\n",
        "  outputs = model.generate(**inputs, min_new_tokens=10, max_new_tokens=100, \n",
        "                           early_stopping=True, no_repeat_ngram_size=2)\n",
        "\n",
        "  generated_summary = tokenizer_t5.batch_decode(outputs, skip_special_tokens=True)[0]\n",
        "\n",
        "  reference_summary = None\n",
        "  # reference_summary = dataset['test'][10]['highlights']\n",
        "  return raw_message, generated_summary, reference_summary\n",
        "\n",
        "def print_fine_tune_result(raw_message, generated_summary, reference_summary):\n",
        "  formatted_generated_summary = \"\\n\".join(re.findall(r'\\d+\\D+', generated_summary))\n",
        "\n",
        "  print('Original Message: \\n{}\\n'.format(raw_message))\n",
        "  print('Generated Summary: \\n{}\\n'.format(formatted_generated_summary))\n",
        "  if reference_summary: \n",
        "    print('reference_summary: ' + reference_summary)\n",
        "\n",
        "# model names\n",
        "t5 = 't5-base'\n",
        "t5_gt = 'model/model_t5_base_1'\n",
        "t5_cot_fine_tuned = 'model/model_t5_example'\n",
        "\n",
        "# load fine-tuned model\n",
        "model_t5_ground_truth = T5ForConditionalGeneration.from_pretrained(t5_gt)\n",
        "model_t5_cot_fine_tuned = T5ForConditionalGeneration.from_pretrained(t5_cot_fine_tuned)\n",
        "\n",
        "# load tokeniser\n",
        "tokenizer_t5 = T5Tokenizer.from_pretrained(t5)\n",
        "\n",
        "# load dataset\n",
        "wikihow_data = pd.read_csv('rawdata/lite_manual_unlabeled.csv') "
      ],
      "metadata": {
        "id": "sQKuVT684UGR"
      },
      "execution_count": null,
      "outputs": []
    },
    {
      "cell_type": "code",
      "source": [
        "wikihow_data.shape"
      ],
      "metadata": {
        "colab": {
          "base_uri": "https://localhost:8080/"
        },
        "id": "uDfJ4JSDgbwb",
        "outputId": "039f96aa-3469-40ab-c7a0-707077f9ec14"
      },
      "execution_count": null,
      "outputs": [
        {
          "output_type": "execute_result",
          "data": {
            "text/plain": [
              "(56373, 4)"
            ]
          },
          "metadata": {},
          "execution_count": 4
        }
      ]
    },
    {
      "cell_type": "markdown",
      "source": [
        "# 1. ICL Demo \n",
        "This part demonstrates how LLM (GPT3 Davinci) can be utilised to synthesis high quality training data in a limited labeled data scenario. We will use Wikihow dataset for text summerisation demonstration. \n",
        "We will use 5 different prompting strategies for ICL to generate the summerisation, and demonstrate how the result can be improved by using more advanced and innovative prompting methods. \n",
        "\n",
        "This part is linked to source code part 4. The supporting document can be found at:\n",
        "https://drive.google.com/drive/folders/1MDnQNheVok6lMdnv0ZauVVu1AzhF_CO0?usp=sharing\n",
        "\n",
        "Here we try to demonstrate different prompt based on different prompt retrieval methods(Inside folder named \"ICL_Data_6000\"):\n",
        "\n",
        "* One-shot random-retrieval: one prompt demo example is randomly selected from the demo dataset\n",
        "\n",
        "* Two-shot random-retrieval: two prompt demo examples are randomly selected from the demo dataset\n",
        "\n",
        "* Two-shot similarity-retrieval: two prompt demo examples are selected based on the ranking of similarity to test text. In order to measure the similarity, here we use the sentence-bart pre-trained model to convert each instructional message into 787 numerical vector so that we can calculate the embedding distances between each other. \n",
        "\n",
        "* Two-shot autoprompt-retrieval: unlike the pure similarity one, the autopromot method first uses the kmeans clustering algorithm to assign each demo data into one of k groups and select the most similar demo example from each group. Finally, the top 2 will be form the prompts example. Combining the kmeans is to balance the diversity and similarity of prompt examples.  \n",
        "\n",
        "* Two-shot autoprompt-retrieval+ CoT table: once we successfully select two examples, we then use certain prompt question for each example to construct the so-called 'CoT table' to demonstrate the action, purpose, result and relationship between each step into a table, so that the reasoning ability of LLMs would be enhanced because of the clear logic connection presentation. The details can be checked in the report. \n",
        "\n"
      ],
      "metadata": {
        "id": "pSc7PAtftMDf"
      }
    },
    {
      "cell_type": "code",
      "source": [
        "# load the dataset \n",
        "# one-shot \n",
        "ICL_6000_one_shot_random = pd.read_csv('ICL_Data_6000/test_data_ans_one_shot_random.csv')\n",
        "\n",
        "# two-shot \n",
        "ICL_6000_two_shot_random = pd.read_csv('ICL_Data_6000/test_data_ans_two_shot_random.csv')\n",
        "\n",
        "# high-similarity\n",
        "ICL_6000_two_shot_similarity = pd.read_csv('ICL_Data_6000/test_data_ans_two_shot_similarity.csv')\n",
        "\n",
        "# high-similarity\n",
        "ICL_6000_two_shot_similarity_Kmeans = pd.read_csv('ICL_Data_6000/test_data_ans_two_shot_similarity_Kmeans.csv')\n",
        "\n",
        "# high-similarity\n",
        "ICL_1500_two_shot_similarity_Kmeans_CoT = pd.read_csv('ICL_Data_6000/test_data_ans_two_shot_similarity_Kmeans_CoT.csv')"
      ],
      "metadata": {
        "id": "-NRwj3v-q32A"
      },
      "execution_count": null,
      "outputs": []
    },
    {
      "cell_type": "code",
      "source": [
        "# function to print prompt messages from different retrieval methods\n",
        "def Prompt_Demonstration(index):\n",
        "  message = ''\n",
        "  message += ICL_6000_one_shot_random['prompt'][index] + '\\n \\n' \n",
        "  print(message)\n",
        "  print('--------------------------------------------------------------')\n",
        "  message = ''\n",
        "  message += ICL_6000_two_shot_random['prompt'][index] + '\\n \\n' \n",
        "  print(message)\n",
        "  print('--------------------------------------------------------------')\n",
        "  message = ''\n",
        "  message += ICL_6000_two_shot_similarity['prompt'][index] + '\\n \\n' \n",
        "  print(message)\n",
        "  print('--------------------------------------------------------------')\n",
        "  message = ''\n",
        "  message += ICL_6000_two_shot_similarity_Kmeans['prompt'][index] + '\\n \\n' \n",
        "  print(message)\n",
        "  print('--------------------------------------------------------------')\n",
        "  message = ''\n",
        "  message += ICL_1500_two_shot_similarity_Kmeans_CoT['prompt'][index] + '\\n \\n' \n",
        "  print(message)\n",
        "  print('--------------------------------------------------------------')\n",
        "\n",
        "\n",
        "# function to print generated answer from different retrieval methods\n",
        "def Prompt_Ans_Demonstration(index):\n",
        "  message = ''\n",
        "  message += ICL_6000_one_shot_random['manual_sumamy'][index] + '\\n \\n' \n",
        "  print(message)\n",
        "  print('--------------------------------------------------------------')\n",
        "  message = ''\n",
        "  message += ICL_6000_two_shot_random['manual_sumamy'][index] + '\\n \\n' \n",
        "  print(message)\n",
        "  print('--------------------------------------------------------------')\n",
        "  message = ''\n",
        "  message += ICL_6000_two_shot_similarity['manual_sumamy'][index] + '\\n \\n' \n",
        "  print(message)\n",
        "  print('--------------------------------------------------------------')\n",
        "  message = ''\n",
        "  message += ICL_6000_two_shot_similarity_Kmeans['manual_sumamy'][index] + '\\n \\n' \n",
        "  print(message)\n",
        "  print('--------------------------------------------------------------')\n",
        "  message = ''\n",
        "  message += ICL_1500_two_shot_similarity_Kmeans_CoT['manual_sumamy'][index] + '\\n \\n' \n",
        "  print(message)\n",
        "  print('--------------------------------------------------------------')"
      ],
      "metadata": {
        "id": "pNAx4CTU1O5X"
      },
      "execution_count": null,
      "outputs": []
    },
    {
      "cell_type": "code",
      "source": [
        "# index for which test data \n",
        "\n",
        "index = 1400"
      ],
      "metadata": {
        "id": "7SgPRBSF0Wu8"
      },
      "execution_count": null,
      "outputs": []
    },
    {
      "cell_type": "code",
      "source": [
        "# prompt message for each retrival method \n",
        "# different messgaes are divided by '--------------------------------'\n",
        "\n",
        "Prompt_Demonstration(index)"
      ],
      "metadata": {
        "colab": {
          "base_uri": "https://localhost:8080/"
        },
        "id": "UfIStrzP0V69",
        "outputId": "06dfa065-9111-4eaa-9192-1c5bb5aabb81"
      },
      "execution_count": null,
      "outputs": [
        {
          "output_type": "stream",
          "name": "stdout",
          "text": [
            "[Message]:\n",
            "How to Extend a Partition in Ubuntu:\n",
            "1. Open GParted: If you don't have GParted downloaded, you can get it from https://gparted.org/livecd.php. Otherwise, GParted will be located in the Dash in Ubuntu Live environments.\n",
            "2. Click the partition you want to resize from the menu in the upper right corner: You can't edit partitions that are actively in use. If a partition is mounted, unmount it by clicking Eject in the file manager.\n",
            "3. Right-click a partition and click Resize: When you right-click, a menu will appear next to your cursor and the resize button is usually the second option in the list.\n",
            "4. Click and drag the handles on either side of the bar to expand the space: If you aren't able to make the space larger, you might need to repeat these steps to shrink a different partition first.\n",
            "5. Click Resize/Move and Apply: These changes will be added to a queue that you can watch via a progress bar. This process may take a few seconds or a few minutes, depending on the number of changes that you've queued.\n",
            "6. Restart your computer: You should notice the new changes once your computer restarts and boots up.\n",
            "\n",
            "[Summarisation]:\n",
            "How to Extend a Partition in Ubuntu:\n",
            "1. Open GParted.  \n",
            "2. Click the partition you want to resize from the menu in the upper right corner.  \n",
            "3. Right-click a partition and click Resize.  \n",
            "4. Click and drag the handles on either side of the bar to expand the space.  \n",
            "5. Click Resize/Move and Apply. \n",
            "###\n",
            "[Message]: \n",
            "How to Use the Red Eye Tool in Photoshop:\n",
            "1. Put the image that you want up in Photoshop. While editing, you want it as large as you can get it.;\n",
            "2. In the toolbox, right click on the plaster (band-aid). Click on the icon that looks like an eye and is labeled \"Red eye tool\".\n",
            "\n",
            "3. Click the eyes on your image in order to remove the red eye. You will know when you have done this successfully because you will notice the eyes are no longer flashy and the image looks much better.\n",
            "\n",
            "4. You have now removed the redeye and you can now do what you want with the image, get it framed, put it on Facebook, etc. Be sure to downsize it when you are finished.\n",
            "\n",
            "\n",
            "[Summarisation]:\n",
            " \n",
            " \n",
            "\n",
            "--------------------------------------------------------------\n",
            "[Message]:\n",
            "How to Use GIMP:\n",
            "1. Download the latest version of GIMP (GNU Image Manipulation Program): You can find it for free from the developer’s website here. Click the Download GIMP X.X.X link under the GIMP for Windows heading. The setup file will begin downloading in a few seconds.\n",
            "2. Run the installer: Windows will ask if you want to run the file. Double-check to make sure that you downloaded GIMP from the developer. Select your language to proceed with the installation.\n",
            "\n",
            "[Summarisation]:\n",
            "How to Use GIMP:\n",
            "1. Install the latest version of GIMP.\n",
            "2. Run the installer.\n",
            "3. Open the app.\n",
            "4. Click File > New to create a new image.\n",
            "5. Click File > Open to open an existing image.\n",
            "6. Crop, flip, and rotate in the Tools menu.\n",
            "7. Add text, lines, and illustrations using the toolbar. \n",
            "###\n",
            "[Message]:\n",
            "How to Allow 3rd Party Cookies on a Mac:\n",
            "1. Open Safari: Click the Safari app icon, which resembles a blue compass, in your Mac's Dock.\n",
            "2. Click Safari: It's a menu item in the top-left corner of the screen next to the Apple icon.\n",
            "3. Click Preferences…: This option is near the top of the drop-down menu.\n",
            "4. Click the Privacy tab: It's at the top of the Preferences window.\n",
            "5. Deselect the “Block All Cookies” option: This option is below the \"Cookies and website data\" heading. Doing so will enable cookies in your Safari browser.\n",
            "\n",
            "[Summarisation]:\n",
            "How to Allow 3rd Party Cookies on a Mac:\n",
            "1. Open Safari.\n",
            "2. Click Safari.\n",
            "3. Click Preferences.  \n",
            "4. Click the Privacy tab.  \n",
            "5. Deselect the “Block All Cookies” option.  \n",
            "###\n",
            "[Message]: \n",
            "How to Use the Red Eye Tool in Photoshop:\n",
            "1. Put the image that you want up in Photoshop. While editing, you want it as large as you can get it.;\n",
            "2. In the toolbox, right click on the plaster (band-aid). Click on the icon that looks like an eye and is labeled \"Red eye tool\".\n",
            "\n",
            "3. Click the eyes on your image in order to remove the red eye. You will know when you have done this successfully because you will notice the eyes are no longer flashy and the image looks much better.\n",
            "\n",
            "4. You have now removed the redeye and you can now do what you want with the image, get it framed, put it on Facebook, etc. Be sure to downsize it when you are finished.\n",
            "\n",
            "\n",
            "[Summarisation]:\n",
            " \n",
            " \n",
            "\n",
            "--------------------------------------------------------------\n",
            "[Message]:\n",
            "How to Rotate an Image in Photoshop:\n",
            "1. Open your image in Photoshop: If you’d like to rotate or flip an entire image, click “File,” then “Open.” Select the image you wish to rotate and click “Open” once more.\n",
            "2. Select a rotation option: Navigate to Image >> Image Rotation to view several options for rotation.\n",
            "3. Undo your changes: If you’re not happy with the flip or rotate option you’ve selected, press Ctrl+Z (Windows) or ⌘ Command+Z (Mac) to undo the action.\n",
            "4. Save the image: Open the File menu and click “Save As.” Choose a location to which you’ll save your newly rotated image.\n",
            "\n",
            "[Summarisation]:\n",
            "How to Rotate an Image in Photoshop:\n",
            "1. Click the Image menu.\n",
            "2. Select Image Rotation.\n",
            "3. Choose a degree and direction.\n",
            "4. Press Ctrl + Z or Cmd + Z to undo if needed. \n",
            "###\n",
            "[Message]:\n",
            "How to Cut an Image on Photoshop:\n",
            "1. Open your project in Photoshop: You can open an image in Photoshop by right-clicking the image file, selecting Open with… and Photoshop.\n",
            "2. Click the Quick Selection tool: This is in the menu to the left in the application window. You can also press W. The Quick Selection tool selects all pixels that are similar in color.\n",
            "3. Click and drag on what you want to delete: The Quick Selection tool will select similar pixels to what you clicked on.\n",
            "4. Refine the edges of your selection: You’ll find the option to Refine Edge in the Select tab in the menu you can find either along the top of your screen or the top of the application window. You’ll see your image with the image cut previewed.\n",
            "5. Press Ctrl+X or ⌘ Cmd+X to cut your selection: Your selection will disappear from the canvas, but it is copied in your clipboard.\n",
            "\n",
            "[Summarisation]:\n",
            "How to Cut an Image on Photoshop:\n",
            "1. Open your project in Photoshop. \n",
            "2. Click the Quick Selection tool. \n",
            "3. Click on your object to cut. \n",
            "4. Refine your cut selection. \n",
            "5. Press Ctrl+X or Cmd+X to cut your selection.  \n",
            "###\n",
            "[Message]: \n",
            "How to Use the Red Eye Tool in Photoshop:\n",
            "1. Put the image that you want up in Photoshop. While editing, you want it as large as you can get it.;\n",
            "2. In the toolbox, right click on the plaster (band-aid). Click on the icon that looks like an eye and is labeled \"Red eye tool\".\n",
            "\n",
            "3. Click the eyes on your image in order to remove the red eye. You will know when you have done this successfully because you will notice the eyes are no longer flashy and the image looks much better.\n",
            "\n",
            "4. You have now removed the redeye and you can now do what you want with the image, get it framed, put it on Facebook, etc. Be sure to downsize it when you are finished.\n",
            "\n",
            "\n",
            "[Summarisation]:\n",
            " \n",
            " \n",
            "\n",
            "--------------------------------------------------------------\n",
            "[Message]:\n",
            "How to Rotate an Image in Photoshop:\n",
            "1. Open your image in Photoshop: If you’d like to rotate or flip an entire image, click “File,” then “Open.” Select the image you wish to rotate and click “Open” once more.\n",
            "2. Select a rotation option: Navigate to Image >> Image Rotation to view several options for rotation.\n",
            "3. Undo your changes: If you’re not happy with the flip or rotate option you’ve selected, press Ctrl+Z (Windows) or ⌘ Command+Z (Mac) to undo the action.\n",
            "4. Save the image: Open the File menu and click “Save As.” Choose a location to which you’ll save your newly rotated image.\n",
            "\n",
            "[Summarisation]:\n",
            "How to Rotate an Image in Photoshop:\n",
            "1. Click the Image menu.\n",
            "2. Select Image Rotation.\n",
            "3. Choose a degree and direction.\n",
            "4. Press Ctrl + Z or Cmd + Z to undo if needed. \n",
            "###\n",
            "[Message]:\n",
            "How to Remove Red Eye on iPhone, iPod, and iPad Photos:\n",
            "1. Open the Photos app: It's the white icon with a multicolored flower. You will find it on your home screen or in the \"Creativity\" folder of your App Library.\n",
            "2. Tap the photo you want to edit: To view all of your photos, you can tap the Albums tab at the bottom and then select All Photos. When you tap a photo, it will open in Photos.\n",
            "3. Tap Edit: It's at the top-right corner.\n",
            "4. Tap the \"Red Eye Correction\" icon: It's the icon of an eye with a line through it, and you'll find it at the top-right corner of the screen.\n",
            "5. Tap each red eye: Red Eye Correction will automatically alter the pixels in the areas you tap.\n",
            "6. Tap Done: It's at the bottom-right corner of the screen. This saves your changes.\n",
            "\n",
            "[Summarisation]:\n",
            "How to Remove Red Eye on iPhone, iPod, and iPad Photos:\n",
            "1. Open the Photos app.\n",
            "2. Tap the photo.\n",
            "3. Tap Edit.\n",
            "4. Tap the eyeball icon.\n",
            "5. Tap each red eye.\n",
            "6. Tap Done. \n",
            "###\n",
            "[Message]: \n",
            "How to Use the Red Eye Tool in Photoshop:\n",
            "1. Put the image that you want up in Photoshop. While editing, you want it as large as you can get it.;\n",
            "2. In the toolbox, right click on the plaster (band-aid). Click on the icon that looks like an eye and is labeled \"Red eye tool\".\n",
            "\n",
            "3. Click the eyes on your image in order to remove the red eye. You will know when you have done this successfully because you will notice the eyes are no longer flashy and the image looks much better.\n",
            "\n",
            "4. You have now removed the redeye and you can now do what you want with the image, get it framed, put it on Facebook, etc. Be sure to downsize it when you are finished.\n",
            "\n",
            "\n",
            "[Summarisation]:\n",
            " \n",
            " \n",
            "\n",
            "--------------------------------------------------------------\n",
            "[Message]:\n",
            "How to Rotate an Image in Photoshop:\n",
            "1. Open your image in Photoshop: If you’d like to rotate or flip an entire image, click “File,” then “Open.” Select the image you wish to rotate and click “Open” once more.\n",
            "2. Select a rotation option: Navigate to Image >> Image Rotation to view several options for rotation.\n",
            "3. Undo your changes: If you’re not happy with the flip or rotate option you’ve selected, press Ctrl+Z (Windows) or ⌘ Command+Z (Mac) to undo the action.\n",
            "4. Save the image: Open the File menu and click “Save As.” Choose a location to which you’ll save your newly rotated image.\n",
            "\n",
            "[How to Summarisation]:\n",
            "\n",
            "\n",
            "Col 1 Action  |  Col 2 Result  |  Col 3 Purpose  |  Col 4 Relation\n",
            "Open image   |   Image opened |   Rotate image |   Parallel\n",
            "Select option |   Option chosen|   Rotate image |   Causal\n",
            "Undo changes |   Changes undone |   Undo action |   Causal\n",
            "Save image   |   Image saved |   Save changes |   Causal\n",
            "\n",
            "[Summarisation]:\n",
            "How to Rotate an Image in Photoshop:\n",
            "1. Click the Image menu.\n",
            "2. Select Image Rotation.\n",
            "3. Choose a degree and direction.\n",
            "4. Press Ctrl + Z or Cmd + Z to undo if needed. \n",
            "#######\n",
            "[Message]:\n",
            "How to Remove Red Eye on iPhone, iPod, and iPad Photos:\n",
            "1. Open the Photos app: It's the white icon with a multicolored flower. You will find it on your home screen or in the \"Creativity\" folder of your App Library.\n",
            "2. Tap the photo you want to edit: To view all of your photos, you can tap the Albums tab at the bottom and then select All Photos. When you tap a photo, it will open in Photos.\n",
            "3. Tap Edit: It's at the top-right corner.\n",
            "4. Tap the \"Red Eye Correction\" icon: It's the icon of an eye with a line through it, and you'll find it at the top-right corner of the screen.\n",
            "5. Tap each red eye: Red Eye Correction will automatically alter the pixels in the areas you tap.\n",
            "6. Tap Done: It's at the bottom-right corner of the screen. This saves your changes.\n",
            "\n",
            "[How to Summarisation]:\n",
            "\n",
            "\n",
            "Col 1 Action  |  Col 2 Result  |  Col 3 Purpose  |  Col 4 Relation\n",
            "Open Photos  |  Photos opened |  Remove red eye |  Parallel\n",
            "Tap Photo    |  Photo opened  |  Edit photo    |  Causal\n",
            "Tap Edit     |  Edit menu open|  Edit photo    |  Causal\n",
            "Tap \"Red Eye Correction\"  |  Red eye corrected |  Remove red eye |  Causal\n",
            "Tap each red eye |  Red eye corrected |  Remove red eye |  Causal\n",
            "Tap Done     |  Changes saved |  Save changes  |  Causal\n",
            "\n",
            "[Summarisation]:\n",
            "How to Remove Red Eye on iPhone, iPod, and iPad Photos:\n",
            "1. Open the Photos app.\n",
            "2. Tap the photo.\n",
            "3. Tap Edit.\n",
            "4. Tap the eyeball icon.\n",
            "5. Tap each red eye.\n",
            "6. Tap Done. \n",
            "#######\n",
            "[Message]: \n",
            "How to Use the Red Eye Tool in Photoshop:\n",
            "1. Put the image that you want up in Photoshop. While editing, you want it as large as you can get it.;\n",
            "2. In the toolbox, right click on the plaster (band-aid). Click on the icon that looks like an eye and is labeled \"Red eye tool\".\n",
            "\n",
            "3. Click the eyes on your image in order to remove the red eye. You will know when you have done this successfully because you will notice the eyes are no longer flashy and the image looks much better.\n",
            "\n",
            "4. You have now removed the redeye and you can now do what you want with the image, get it framed, put it on Facebook, etc. Be sure to downsize it when you are finished.\n",
            "\n",
            "\n",
            "[How to Summarisation]:\n",
            "\n",
            "\n",
            "Action \tResult\tPurpose\tRelation\n",
            "Put Image Up \tImage as large as possible\tEditing\tParallel\n",
            "Right click on plaster \tRed Eye Tool\tFind Tool\tCausal\n",
            "Click on eyes\tRed eye removed\tRemove red eye\tCausal\n",
            "Downsize Image\tImage smaller\tShare/Framing\tCausal\n",
            "\n",
            "[Summarisation]:\n",
            " \n",
            " \n",
            "\n",
            "--------------------------------------------------------------\n"
          ]
        }
      ]
    },
    {
      "cell_type": "code",
      "source": [
        "# generated answer message for each retrival method \n",
        "# different messgaes are divided by '--------------------------------'\n",
        "\n",
        "Prompt_Ans_Demonstration(index)"
      ],
      "metadata": {
        "id": "qLKeAYa7qxNI",
        "colab": {
          "base_uri": "https://localhost:8080/"
        },
        "outputId": "ddb3e8fe-9d8b-4e8d-c31f-6817daf93a6b"
      },
      "execution_count": null,
      "outputs": [
        {
          "output_type": "stream",
          "name": "stdout",
          "text": [
            "\n",
            "How to Use the Red Eye Tool in Photoshop:\n",
            "1. Put the image that you want up in Photoshop. \n",
            "2. In the toolbox, right click on the plaster (band-aid). Click on the icon that looks like an eye and is labeled \"Red eye tool\". \n",
            "3. Click the eyes on your image in order to remove the red eye. \n",
            "4. You will know when you have done this successfully because you will notice the eyes are no longer flashy and the image looks much better.\n",
            " \n",
            "\n",
            "--------------------------------------------------------------\n",
            "\n",
            "\n",
            "How to Use the Red Eye Tool in Photoshop:\n",
            "1. Put the image that you want up in Photoshop.\n",
            "2. In the toolbox, right click on the plaster (band-aid). Click on the icon that looks like an eye and is labeled \"Red eye tool\".\n",
            "3. Click the eyes on your image in order to remove the red eye. \n",
            "4. You will know when you have done this successfully because you will notice the eyes are no longer flashy and the image looks much better.\n",
            "5. You have now removed the redeye and you can now do what you want with the image\n",
            " \n",
            "\n",
            "--------------------------------------------------------------\n",
            "\n",
            "\n",
            "How to Use the Red Eye Tool in Photoshop:\n",
            "1. Put the image that you want up in Photoshop. \n",
            "2. In the toolbox, right click on the plaster (band-aid). Click on the icon that looks like an eye and is labeled \"Red eye tool\".\n",
            "3. Click the eyes on your image to remove the red eye. \n",
            "4. You have now removed the redeye and you can now do what you want with the image, get it framed, put it on Facebook, etc. Be sure to downsize it when you are finished.\n",
            " \n",
            "\n",
            "--------------------------------------------------------------\n",
            "\n",
            "How to Use the Red Eye Tool in Photoshop:\n",
            "1. Open the image you want to edit.\n",
            "2. In the toolbox, right click on the plaster (band-aid). Click on the icon that looks like an eye and is labeled \"Red eye tool\".\n",
            "3. Click the eyes on your image in order to remove the red eye.\n",
            "4. You will know when you have done this successfully because you will notice the eyes are no longer flashy and the image looks much better.\n",
            "5. You have now removed the redeye and you can now do what you want with the image, get it framed\n",
            " \n",
            "\n",
            "--------------------------------------------------------------\n",
            "\n",
            "How to Use the Red Eye Tool in Photoshop:\n",
            "1. Put the image up in Photoshop.\n",
            "2. Right click on the plaster and select the Red Eye Tool.\n",
            "3. Click the eyes to remove the red eye.\n",
            "4. Downsize the image when finished.\n",
            " \n",
            "\n",
            "--------------------------------------------------------------\n"
          ]
        }
      ]
    },
    {
      "cell_type": "markdown",
      "source": [
        "# 2. Fine-tune Demo\n",
        "A smaller language model(LM) offers advantages such as having higher training efficiency and providing faster inference times. We will leverage such benefits of smaller LMs by utilising high quality synthetic data generated by LLM from the last part to fine-tune a smaller LM, T5 for demonstration purpose, aiming to achieve superior summarisation results on the Wikihow dataset. \n",
        "\n",
        "This part is linked to source code part 5. The supporting document can be found at:\n",
        "https://drive.google.com/drive/folders/1MDnQNheVok6lMdnv0ZauVVu1AzhF_CO0?usp=sharing\n",
        "\n",
        "* Two models have been selected as example models, which are named \"model_t5_base_1\" and \"model_t5_example.\" The first model is a T5 base model fine-tuned using only the ground truth dataset, while the second model is fine-tuned using both the ground truth and CoT datasets.\n",
        "\n",
        "* The results for the source code, which runs each model five times, are shown as CSV files listed in the following Google Drive folder and named \"5_runs\". These data are used to calculate the average evaluation metrics scores along with their standard deviations (used in Table 5).\n",
        "\n",
        "* The results for the source code, which runs each model once and evaluates them for each epoch, can be found in the Google Drive folder named \"epoch\" (used in Figure 2)"
      ],
      "metadata": {
        "id": "RuEJmPchvDGA"
      }
    },
    {
      "cell_type": "markdown",
      "source": [
        "### 2.1 Fine-tune T5 with Ground Truth Data Only\n",
        "\n",
        "The following section presents specific examples illustrating the performance of two T5-Base models: one fine-tuned using only the ground truth dataset and another fine-tuned using both the ground truth and CoT datasets. By visualizing the differences in these particular results, we can observe some improvements made by incorporating the CoT dataset in the fine-tuning process."
      ],
      "metadata": {
        "id": "Qto_-dzr04ib"
      }
    },
    {
      "cell_type": "code",
      "source": [
        "raw_message, generated_summary, reference_summary = generate_sample_summary(model=model_t5_ground_truth, sample_id=1095)\n",
        "print_fine_tune_result(raw_message, generated_summary, reference_summary)"
      ],
      "metadata": {
        "colab": {
          "base_uri": "https://localhost:8080/"
        },
        "id": "iCDAsjJyBsOK",
        "outputId": "dce27ce0-5b9a-47db-876f-8737cfef8f00"
      },
      "execution_count": null,
      "outputs": [
        {
          "output_type": "stream",
          "name": "stdout",
          "text": [
            "Original Message: \n",
            "1. Type in \"Cleartype\" on the Start Menu in Windows. Select the \"Settings\" option with the gear icon.;\n",
            "2. Click on the \"Adjust Cleartype text\" option when it appears on-screen.\n",
            "\n",
            "3. Check the \"Turn on Cleartype\" box if it's not on already.\n",
            "\n",
            "4. Click \"Next\" through each screen of the setup. This will involve selecting which box has text that is the most clear to you on your particular monitor.\n",
            "\n",
            "5. Click \"Finish\" to complete the Cleartype setup process.\n",
            "\n",
            "\n",
            "\n",
            "Generated Summary: \n",
            "2. Click on the \"Cleartype text\" option when it appears on-screen. \n",
            "2. Select the Cleartype option. \n",
            "3. Click \"Next\" through each screen. \n",
            "4. Click the OK button. \n",
            "5. Click OK. \n",
            "6. Click Next. \n",
            "7.\n",
            "\n"
          ]
        }
      ]
    },
    {
      "cell_type": "markdown",
      "source": [
        "### 2.2 Fine-tune T5 with Ground Truth + ICL Data\n"
      ],
      "metadata": {
        "id": "KwllExwT1Ccv"
      }
    },
    {
      "cell_type": "code",
      "execution_count": null,
      "metadata": {
        "colab": {
          "base_uri": "https://localhost:8080/"
        },
        "id": "lRGmeqyzsz-b",
        "outputId": "c4800c0a-d515-4452-f67c-e2723dedce51"
      },
      "outputs": [
        {
          "output_type": "stream",
          "name": "stdout",
          "text": [
            "Original Message: \n",
            "1. Type in \"Cleartype\" on the Start Menu in Windows. Select the \"Settings\" option with the gear icon.;\n",
            "2. Click on the \"Adjust Cleartype text\" option when it appears on-screen.\n",
            "\n",
            "3. Check the \"Turn on Cleartype\" box if it's not on already.\n",
            "\n",
            "4. Click \"Next\" through each screen of the setup. This will involve selecting which box has text that is the most clear to you on your particular monitor.\n",
            "\n",
            "5. Click \"Finish\" to complete the Cleartype setup process.\n",
            "\n",
            "\n",
            "\n",
            "Generated Summary: \n",
            "1. Type in Cleartype on the Start Menu in Windows. \n",
            "2. Click on \"Settings\". \n",
            "3. Click the \"Adjust ClearType text\" option. \n",
            "4. Check the box with \"Turn on Cleartyping\". \n",
            "5. Click Next. \n",
            "6. Click Finish.\n",
            "\n"
          ]
        }
      ],
      "source": [
        "# 23, 26\n",
        "raw_message, generated_summary, reference_summary = generate_sample_summary(model=model_t5_cot_fine_tuned, sample_id=1095)\n",
        "print_fine_tune_result(raw_message, generated_summary, reference_summary)"
      ]
    }
  ]
}